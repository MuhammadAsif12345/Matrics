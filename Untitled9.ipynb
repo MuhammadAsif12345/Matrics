{
  "nbformat": 4,
  "nbformat_minor": 0,
  "metadata": {
    "colab": {
      "name": "Untitled9.ipynb",
      "provenance": []
    },
    "kernelspec": {
      "name": "python3",
      "display_name": "Python 3"
    },
    "language_info": {
      "name": "python"
    }
  },
  "cells": [
    {
      "cell_type": "markdown",
      "source": [
        "##Explain in words what accuracy, precision, and recall are.  Describe a situation when you would prefer one to another and where the shortcomings to each lays\n",
        "Accuracy is something that tells us that how many times a certain model was correct overall. Precissions is something that predicts how good a model is at a specific category. Recall is something that tells how many times the model was able to detect a specific category.\n",
        "I would prefer accuracy over precission in the dart game. In another example that I would use precission over accuracy is the weather. \n"
      ],
      "metadata": {
        "id": "XxRcs5L04p1Y"
      }
    },
    {
      "cell_type": "markdown",
      "source": [
        "##What is a confusion matrix?\n",
        "A table that shows visuvalization of the performance of an algorithm is called confusin matrix."
      ],
      "metadata": {
        "id": "s6bbTuIM56yN"
      }
    },
    {
      "cell_type": "markdown",
      "source": [
        "##Give your own example of type 1 and type 2 errors.\n",
        "A very common example of type 1 and type 2 error is if you are actually not positive for corona virus but the test results and you are and for type 2 you actually are positive for corona but the test results says you are not."
      ],
      "metadata": {
        "id": "GO9JhJkiQRBR"
      }
    },
    {
      "cell_type": "markdown",
      "source": [
        "##What is the bias vs. variance trade off?\n",
        "Bias is an assumption made for target to function easily to proximate while variance is the amount that the target function will change."
      ],
      "metadata": {
        "id": "-PuK0xymR_0T"
      }
    },
    {
      "cell_type": "markdown",
      "source": [
        "##Why do we use train.test,split() function from Python when analyzing data?  What is the point of splitting data?\n",
        "It used to estimate the performance of machine learning algorithms when they are used to make predictions on data not used to train model."
      ],
      "metadata": {
        "id": "zIaO4HtJUD42"
      }
    }
  ]
}